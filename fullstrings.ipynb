{
 "cells": [
  {
   "cell_type": "code",
   "execution_count": 11,
   "id": "70c8d982-243e-4d8c-b9b6-7cbbf34545fc",
   "metadata": {
    "tags": []
   },
   "outputs": [
    {
     "name": "stdin",
     "output_type": "stream",
     "text": [
      "Enter the number of noodles:  7\n",
      "Enter the number of turns (between 1 and 7):  5\n"
     ]
    },
    {
     "name": "stdout",
     "output_type": "stream",
     "text": [
      "Initial list of ends: [(0, 'A'), (1, 'A'), (2, 'A'), (3, 'A'), (4, 'A'), (5, 'A'), (6, 'A'), (0, 'B'), (1, 'B'), (2, 'B'), (3, 'B'), (4, 'B'), (5, 'B'), (6, 'B')]\n",
      "\n",
      "Simulation:\n",
      "\n",
      "Turn 1:\n",
      "Tied ends: ((5, 'B'), (3, 'A'))\n",
      "No loop was formed.\n",
      "New ends added: ((7, 'A'), (7, 'B'))\n",
      "Remaining list of ends: [(0, 'A'), (1, 'A'), (2, 'A'), (4, 'A'), (6, 'A'), (0, 'B'), (1, 'B'), (2, 'B'), (4, 'B'), (6, 'B'), (7, 'A'), (7, 'B')]\n",
      "\n",
      "Turn 2:\n",
      "Tied ends: ((6, 'A'), (2, 'B'))\n",
      "No loop was formed.\n",
      "New ends added: ((8, 'A'), (8, 'B'))\n",
      "Remaining list of ends: [(0, 'A'), (1, 'A'), (4, 'A'), (0, 'B'), (1, 'B'), (4, 'B'), (7, 'A'), (7, 'B'), (8, 'A'), (8, 'B')]\n",
      "\n",
      "Turn 3:\n",
      "Tied ends: ((0, 'B'), (7, 'B'))\n",
      "No loop was formed.\n",
      "New ends added: ((9, 'A'), (9, 'B'))\n",
      "Remaining list of ends: [(1, 'A'), (4, 'A'), (1, 'B'), (4, 'B'), (8, 'A'), (8, 'B'), (9, 'A'), (9, 'B')]\n",
      "\n",
      "Turn 4:\n",
      "Tied ends: ((9, 'A'), (4, 'B'))\n",
      "No loop was formed.\n",
      "New ends added: ((10, 'A'), (10, 'B'))\n",
      "Remaining list of ends: [(1, 'A'), (1, 'B'), (8, 'A'), (8, 'B'), (10, 'A'), (10, 'B')]\n",
      "\n",
      "Turn 5:\n",
      "Tied ends: ((8, 'A'), (10, 'B'))\n",
      "No loop was formed.\n",
      "New ends added: ((11, 'A'), (11, 'B'))\n",
      "Remaining list of ends: [(1, 'A'), (1, 'B'), (11, 'A'), (11, 'B')]\n",
      "All turns completed.\n"
     ]
    }
   ],
   "source": [
    "import random\n",
    "\n",
    "def pick_two_ends(ends):\n",
    "    end1, end2 = random.sample(ends, 2)\n",
    "    ends.remove(end1)\n",
    "    ends.remove(end2)\n",
    "    return end1, end2\n",
    "\n",
    "def replace_ends(ends, end1, end2, num_noodles, turn):\n",
    "    if end1[0] == end2[0]:  # Check if ends have the same number\n",
    "        return True, (end1, end2), None  # Loop formed\n",
    "    else:\n",
    "        corresponding_end1 = (end1[0], 'B' if end1[1] == 'A' else 'A')\n",
    "        corresponding_end2 = (end2[0], 'B' if end2[1] == 'A' else 'A')\n",
    "        if corresponding_end1 in ends:\n",
    "            ends.remove(corresponding_end1)\n",
    "        if corresponding_end2 in ends:\n",
    "            ends.remove(corresponding_end2)\n",
    "        new_end1 = (num_noodles + turn - 1, 'A')\n",
    "        new_end2 = (num_noodles + turn - 1, 'B')\n",
    "        ends.append(new_end1)\n",
    "        ends.append(new_end2)\n",
    "        return False, (end1, end2), (new_end1, new_end2)  # No loop formed\n",
    "\n",
    "def simulate_turn(ends, num_noodles, turn):\n",
    "    loop_formed = False\n",
    "    end1, end2 = pick_two_ends(ends)\n",
    "    loop_formed, tied_ends, new_ends = replace_ends(ends, end1, end2, num_noodles, turn)\n",
    "    print(f\"\\nTurn {turn}:\")\n",
    "    print(\"Tied ends:\", tied_ends)\n",
    "    if loop_formed:\n",
    "        print(\"A loop was formed.\")\n",
    "    else:\n",
    "        print(\"No loop was formed.\")\n",
    "        print(\"New ends added:\", new_ends)\n",
    "        print(\"Remaining list of ends:\", ends)\n",
    "    return loop_formed\n",
    "\n",
    "def main():\n",
    "    num_noodles = int(input(\"Enter the number of noodles: \"))\n",
    "    turns = int(input(f\"Enter the number of turns (between 1 and {num_noodles}): \"))\n",
    "    if turns < 1 or turns > num_noodles:\n",
    "        print(\"Invalid number of turns. Please choose again.\")\n",
    "        return\n",
    "    ends = [(n, 'A') for n in range(num_noodles)] + [(n, 'B') for n in range(num_noodles)]\n",
    "    print(\"Initial list of ends:\", ends)\n",
    "\n",
    "    print(\"\\nSimulation:\")\n",
    "    for turn in range(1, turns + 1):\n",
    "        simulate_turn(ends, num_noodles, turn)\n",
    "\n",
    "    print(\"All turns completed.\")\n",
    "\n",
    "if __name__ == \"__main__\":\n",
    "    main()\n",
    "\n"
   ]
  }
 ],
 "metadata": {
  "kernelspec": {
   "display_name": "Python 3 (ipykernel)",
   "language": "python",
   "name": "python3"
  },
  "language_info": {
   "codemirror_mode": {
    "name": "ipython",
    "version": 3
   },
   "file_extension": ".py",
   "mimetype": "text/x-python",
   "name": "python",
   "nbconvert_exporter": "python",
   "pygments_lexer": "ipython3",
   "version": "3.11.5"
  }
 },
 "nbformat": 4,
 "nbformat_minor": 5
}
