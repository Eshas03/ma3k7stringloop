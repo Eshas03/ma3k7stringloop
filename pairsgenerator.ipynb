{
 "cells": [
  {
   "cell_type": "code",
   "execution_count": 1,
   "id": "ecedfe78-f8fa-41b1-a25c-3d706887d7ab",
   "metadata": {
    "tags": []
   },
   "outputs": [
    {
     "name": "stdin",
     "output_type": "stream",
     "text": [
      "Enter 6 numbers separated by space:  A B C D E F\n"
     ]
    },
    {
     "name": "stdout",
     "output_type": "stream",
     "text": [
      "Generated 2 pairs:\n",
      "[('A', 'B'), ('E', 'F')]\n",
      "[('A', 'C'), ('E', 'F')]\n",
      "[('A', 'D'), ('E', 'F')]\n",
      "[('B', 'C'), ('E', 'F')]\n",
      "[('B', 'D'), ('E', 'F')]\n",
      "[('C', 'D'), ('E', 'F')]\n",
      "[('A', 'B'), ('D', 'F')]\n",
      "[('A', 'C'), ('D', 'F')]\n",
      "[('A', 'E'), ('D', 'F')]\n",
      "[('B', 'C'), ('D', 'F')]\n",
      "[('B', 'E'), ('D', 'F')]\n",
      "[('C', 'E'), ('D', 'F')]\n",
      "[('A', 'B'), ('D', 'E')]\n",
      "[('A', 'C'), ('D', 'E')]\n",
      "[('A', 'F'), ('D', 'E')]\n",
      "[('B', 'C'), ('D', 'E')]\n",
      "[('B', 'F'), ('D', 'E')]\n",
      "[('C', 'F'), ('D', 'E')]\n",
      "[('A', 'B'), ('C', 'F')]\n",
      "[('A', 'D'), ('C', 'F')]\n",
      "[('A', 'E'), ('C', 'F')]\n",
      "[('B', 'D'), ('C', 'F')]\n",
      "[('B', 'E'), ('C', 'F')]\n",
      "[('A', 'B'), ('C', 'E')]\n",
      "[('A', 'D'), ('C', 'E')]\n",
      "[('A', 'F'), ('C', 'E')]\n",
      "[('B', 'D'), ('C', 'E')]\n",
      "[('B', 'F'), ('C', 'E')]\n",
      "[('A', 'B'), ('C', 'D')]\n",
      "[('A', 'E'), ('C', 'D')]\n",
      "[('A', 'F'), ('C', 'D')]\n",
      "[('B', 'E'), ('C', 'D')]\n",
      "[('B', 'F'), ('C', 'D')]\n",
      "[('A', 'C'), ('B', 'F')]\n",
      "[('A', 'D'), ('B', 'F')]\n",
      "[('A', 'E'), ('B', 'F')]\n",
      "[('A', 'C'), ('B', 'E')]\n",
      "[('A', 'D'), ('B', 'E')]\n",
      "[('A', 'F'), ('B', 'E')]\n",
      "[('A', 'C'), ('B', 'D')]\n",
      "[('A', 'E'), ('B', 'D')]\n",
      "[('A', 'F'), ('B', 'D')]\n",
      "[('A', 'D'), ('B', 'C')]\n",
      "[('A', 'E'), ('B', 'C')]\n",
      "[('A', 'F'), ('B', 'C')]\n",
      "Total number of 2 pairs found: 45\n"
     ]
    }
   ],
   "source": [
    "from itertools import combinations\n",
    "\n",
    "def generate_pairs(numbers):\n",
    "    pairs = []\n",
    "    for pair in combinations(numbers, 4):\n",
    "        remaining = [x for x in numbers if x not in pair]\n",
    "        pair_combinations = list(combinations(pair, 2))\n",
    "        remaining_combinations = list(combinations(remaining, 2))\n",
    "        for p1 in pair_combinations:\n",
    "            for p2 in remaining_combinations:\n",
    "                sorted_pair = sorted([p1, p2])\n",
    "                if sorted_pair not in pairs:\n",
    "                    pairs.append(sorted_pair)\n",
    "    return pairs\n",
    "\n",
    "# Input numbers\n",
    "A, B, C, D, E, F = input(\"Enter 6 numbers separated by space: \").split()\n",
    "\n",
    "# Generate pairs\n",
    "pairs = generate_pairs([A, B, C, D, E, F])\n",
    "\n",
    "# Print pairs\n",
    "print(\"Generated 2 pairs:\")\n",
    "for pair in pairs:\n",
    "    print(pair)\n",
    "\n",
    "# Print total number of pairs found\n",
    "print(\"Total number of 2 pairs found:\", len(pairs))\n"
   ]
  }
 ],
 "metadata": {
  "kernelspec": {
   "display_name": "Python 3 (ipykernel)",
   "language": "python",
   "name": "python3"
  },
  "language_info": {
   "codemirror_mode": {
    "name": "ipython",
    "version": 3
   },
   "file_extension": ".py",
   "mimetype": "text/x-python",
   "name": "python",
   "nbconvert_exporter": "python",
   "pygments_lexer": "ipython3",
   "version": "3.11.5"
  }
 },
 "nbformat": 4,
 "nbformat_minor": 5
}
