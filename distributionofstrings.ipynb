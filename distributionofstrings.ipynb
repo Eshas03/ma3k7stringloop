{
 "cells": [
  {
   "cell_type": "code",
   "execution_count": 4,
   "id": "16624c98-1d32-4f87-b657-5013ea618e65",
   "metadata": {
    "tags": []
   },
   "outputs": [
    {
     "name": "stdin",
     "output_type": "stream",
     "text": [
      "Enter the number of noodles:  1000\n",
      "Enter the number of turns (between 1 and 1000):  10\n",
      "Enter the number of simulations:  5\n"
     ]
    },
    {
     "name": "stdout",
     "output_type": "stream",
     "text": [
      "Distribution of the total number of loops produced:\n",
      "0 loops: 5 simulations\n",
      "1 loops: 0 simulations\n",
      "2 loops: 0 simulations\n",
      "3 loops: 0 simulations\n",
      "4 loops: 0 simulations\n",
      "5 loops: 0 simulations\n",
      "6 loops: 0 simulations\n",
      "7 loops: 0 simulations\n",
      "8 loops: 0 simulations\n",
      "9 loops: 0 simulations\n",
      "10 loops: 0 simulations\n"
     ]
    }
   ],
   "source": [
    "import random\n",
    "\n",
    "def pick_two_ends(ends):\n",
    "    end1, end2 = random.sample(ends, 2)\n",
    "    ends.remove(end1)\n",
    "    ends.remove(end2)\n",
    "    return end1, end2\n",
    "\n",
    "def replace_ends(ends, end1, end2, num_noodles, turn):\n",
    "    if end1[0] == end2[0]:  # Check if ends have the same number\n",
    "        return True, (end1, end2), None  # Loop formed\n",
    "    else:\n",
    "        corresponding_end1 = (end1[0], 'B' if end1[1] == 'A' else 'A')\n",
    "        corresponding_end2 = (end2[0], 'B' if end2[1] == 'A' else 'A')\n",
    "        if corresponding_end1 in ends:\n",
    "            ends.remove(corresponding_end1)\n",
    "        if corresponding_end2 in ends:\n",
    "            ends.remove(corresponding_end2)\n",
    "        new_end1 = (num_noodles + turn - 1, 'A')\n",
    "        new_end2 = (num_noodles + turn - 1, 'B')\n",
    "        ends.append(new_end1)\n",
    "        ends.append(new_end2)\n",
    "        return False, (end1, end2), (new_end1, new_end2)  # No loop formed\n",
    "\n",
    "def simulate_turn(ends, num_noodles, turn):\n",
    "    loop_formed = False\n",
    "    end1, end2 = pick_two_ends(ends)\n",
    "    loop_formed, tied_ends, new_ends = replace_ends(ends, end1, end2, num_noodles, turn)\n",
    "    return loop_formed\n",
    "\n",
    "def run_simulation(num_noodles, turns):\n",
    "    ends = [(n, 'A') for n in range(num_noodles)] + [(n, 'B') for n in range(num_noodles)]\n",
    "    total_loops = 0\n",
    "    for turn in range(1, turns + 1):\n",
    "        if simulate_turn(ends, num_noodles, turn):\n",
    "            total_loops += 1\n",
    "    return total_loops\n",
    "\n",
    "def main():\n",
    "    num_noodles = int(input(\"Enter the number of noodles: \"))\n",
    "    turns = int(input(f\"Enter the number of turns (between 1 and {num_noodles}): \"))\n",
    "    if turns < 1 or turns > num_noodles:\n",
    "        print(\"Invalid number of turns. Please choose again.\")\n",
    "        return\n",
    "    num_simulations = int(input(\"Enter the number of simulations: \"))\n",
    "    \n",
    "    loop_counts = {i: 0 for i in range(turns + 1)}\n",
    "\n",
    "    for _ in range(num_simulations):\n",
    "        total_loops = run_simulation(num_noodles, turns)\n",
    "        loop_counts[total_loops] += 1\n",
    "\n",
    "    print(\"Distribution of the total number of loops produced:\")\n",
    "    for loops, count in loop_counts.items():\n",
    "        print(f\"{loops} loops: {count} simulations\")\n",
    "\n",
    "if __name__ == \"__main__\":\n",
    "    main()\n"
   ]
  }
 ],
 "metadata": {
  "kernelspec": {
   "display_name": "Python 3 (ipykernel)",
   "language": "python",
   "name": "python3"
  },
  "language_info": {
   "codemirror_mode": {
    "name": "ipython",
    "version": 3
   },
   "file_extension": ".py",
   "mimetype": "text/x-python",
   "name": "python",
   "nbconvert_exporter": "python",
   "pygments_lexer": "ipython3",
   "version": "3.11.5"
  }
 },
 "nbformat": 4,
 "nbformat_minor": 5
}
