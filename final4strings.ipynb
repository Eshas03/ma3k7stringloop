{
 "cells": [
  {
   "cell_type": "code",
   "execution_count": 11,
   "id": "0ef5e60e-f86f-4b99-af7c-da1111818d6b",
   "metadata": {
    "tags": []
   },
   "outputs": [
    {
     "name": "stdin",
     "output_type": "stream",
     "text": [
      "Enter the number of turns (1-4):  3\n",
      "Enter the number of simulations:  100\n"
     ]
    },
    {
     "name": "stdout",
     "output_type": "stream",
     "text": [
      "Distribution of number of loops produced for 3 turns in 100 simulations:\n",
      "0 loops: 46 cases (Probability: 0.460)\n",
      "1 loops: 43 cases (Probability: 0.430)\n",
      "2 loops: 11 cases (Probability: 0.110)\n",
      "3 loops: 0 cases (Probability: 0.000)\n"
     ]
    }
   ],
   "source": [
    "import random\n",
    "\n",
    "def pick_two_ends(ends):\n",
    "    end1, end2 = random.sample(ends, 2)\n",
    "    ends.remove(end1)\n",
    "    ends.remove(end2)\n",
    "    return end1, end2\n",
    "\n",
    "def replace_ends(ends, end1, end2, turn, loop_count):\n",
    "    if end1[0] == end2[0]:  # Check if ends have the same number\n",
    "        loop_count[turn] += 1\n",
    "    else:\n",
    "        corresponding_end1 = (end1[0], 'B' if end1[1] == 'A' else 'A')\n",
    "        corresponding_end2 = (end2[0], 'B' if end2[1] == 'A' else 'A')\n",
    "        if corresponding_end1 in ends:\n",
    "            ends.remove(corresponding_end1)\n",
    "        if corresponding_end2 in ends:\n",
    "            ends.remove(corresponding_end2)\n",
    "        if turn == 1:\n",
    "            ends.append((4, 'A'))  # New end\n",
    "            ends.append((4, 'B'))  # New end\n",
    "        elif turn == 2:\n",
    "            ends.append((5, 'A'))  # New end\n",
    "            ends.append((5, 'B'))  # New end\n",
    "        elif turn == 3:\n",
    "            ends.append((6, 'A'))  # New end\n",
    "            ends.append((6, 'B'))  # New end\n",
    "\n",
    "def simulate(num_turns, num_simulations):\n",
    "    if num_turns < 1 or num_turns > 4:\n",
    "        print(\"Number of turns should be between 1 and 4.\")\n",
    "        return\n",
    "\n",
    "    loop_counts = {i: 0 for i in range(num_turns + 1)}\n",
    "\n",
    "    for _ in range(num_simulations):\n",
    "        ends = [(n, 'A') for n in range(4)] + [(n, 'B') for n in range(4)]\n",
    "        loop_count = {i: 0 for i in range(1, num_turns + 1)}\n",
    "\n",
    "        for turn in range(1, num_turns + 1):\n",
    "            end1, end2 = pick_two_ends(ends)\n",
    "            replace_ends(ends, end1, end2, turn, loop_count)\n",
    "\n",
    "        total_loops = sum(loop_count.values())\n",
    "        loop_counts[total_loops] += 1\n",
    "\n",
    "    print(\"Distribution of number of loops produced for\", num_turns, \"turns in\", num_simulations, \"simulations:\")\n",
    "    for loops, count in loop_counts.items():\n",
    "        probability = count / num_simulations\n",
    "        print(f\"{loops} loops: {count} cases (Probability: {probability:.3f})\")\n",
    "\n",
    "num_turns = int(input(\"Enter the number of turns (1-4): \"))\n",
    "num_simulations = int(input(\"Enter the number of simulations: \"))\n",
    "simulate(num_turns, num_simulations)\n"
   ]
  }
 ],
 "metadata": {
  "kernelspec": {
   "display_name": "Python 3 (ipykernel)",
   "language": "python",
   "name": "python3"
  },
  "language_info": {
   "codemirror_mode": {
    "name": "ipython",
    "version": 3
   },
   "file_extension": ".py",
   "mimetype": "text/x-python",
   "name": "python",
   "nbconvert_exporter": "python",
   "pygments_lexer": "ipython3",
   "version": "3.11.5"
  }
 },
 "nbformat": 4,
 "nbformat_minor": 5
}
